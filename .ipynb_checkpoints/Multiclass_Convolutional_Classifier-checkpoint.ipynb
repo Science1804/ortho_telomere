{
 "cells": [
  {
   "cell_type": "code",
   "execution_count": 1,
   "id": "cf2e75a6-4861-43a1-9b49-0e47c458dadd",
   "metadata": {},
   "outputs": [],
   "source": [
    "import tensorflow as tf"
   ]
  },
  {
   "cell_type": "code",
   "execution_count": 20,
   "id": "edf5cc7b-213b-445e-8a6e-dadb753a1871",
   "metadata": {},
   "outputs": [],
   "source": [
    "class MCC:\n",
    "    \n",
    "    def __init__(self,filters,act='relu',cact='sigmoid',c=1,input_shape=(256,256,3),strides=(2,2),kernel=(3,3),kreg=None):\n",
    "    \n",
    "        self.filters = filters ;\n",
    "        self.act = act ;\n",
    "        self.input_shape = input_shape ;\n",
    "        self.strides = strides\n",
    "        self.kernel = kernel ;\n",
    "        self.cact = cact\n",
    "        self.c = c ;\n",
    "        \n",
    "        if kreg==None:\n",
    "            self.kreg = None;\n",
    "        else:\n",
    "            self.kreg = kreg\n",
    "\n",
    "        return\n",
    "\n",
    "\n",
    "    def Classifier(self):\n",
    "        inp_layer = tf.keras.layers.Input(shape=self.input_shape,name='encoder input')\n",
    "        x = inp_layer;\n",
    "\n",
    "        for filter in self.filters:\n",
    "            x = tf.keras.layers.Conv2D(filter,kernel_size=self.kernel,strides=self.strides,activation=self.act,kernel_regularizer=self.kreg)(x)\n",
    "\n",
    "        latent = tf.keras.layers.Flatten(name='latent_flatten')(x)\n",
    "        latent = tf.keras.layers.Dense(self.c,activation=self.cact)(latent)\n",
    "        classifier = tf.keras.Model(inputs=inp_layer,outputs=latent,name='Classifier')\n",
    "\n",
    "        return classifier\n",
    "\n",
    "\n",
    "    def Classifier_plus(self,neurons):\n",
    "        self.neurons = neurons; \n",
    "        inp_layer = tf.keras.layers.Input(shape=self.input_shape,name='encoder input')\n",
    "        x = inp_layer;\n",
    "\n",
    "        for filter in self.filters:\n",
    "            x = tf.keras.layers.Conv2D(filter,kernel_size=self.kernel,strides=self.strides,activation=self.act,kernel_regularizer=self.kreg)(x)\n",
    "\n",
    "        latent = tf.keras.layers.Flatten(name='latent_flatten')(x)\n",
    "        x2 = latent ;\n",
    "        \n",
    "        for neuron in self.neurons:\n",
    "            x2 = tf.keras.layers.Dense(neuron,activation=self.act,kernel_regularizer=self.kreg)(x2)\n",
    "        \n",
    "        x2 = tf.keras.layers.Dense(self.c,activation=self.cact)(x2)\n",
    "        \n",
    "        classifier = tf.keras.Model(inputs=inp_layer,outputs=x2,name='Classifier2')\n",
    "\n",
    "        return classifier"
   ]
  },
  {
   "cell_type": "code",
   "execution_count": 21,
   "id": "f35d2a3b-874b-42bf-8e97-454e6c434370",
   "metadata": {},
   "outputs": [],
   "source": [
    "mcc = MCC([32,64],act='selu',c=4,cact='softmax')"
   ]
  },
  {
   "cell_type": "code",
   "execution_count": 22,
   "id": "f9bd9dbc-ce15-456e-913f-2361ec6b53e5",
   "metadata": {},
   "outputs": [],
   "source": [
    "c1 = mcc.Classifier()"
   ]
  },
  {
   "cell_type": "code",
   "execution_count": 23,
   "id": "52b30f27-d468-494e-9936-178e20e165e7",
   "metadata": {},
   "outputs": [
    {
     "name": "stdout",
     "output_type": "stream",
     "text": [
      "Model: \"Classifier\"\n",
      "_________________________________________________________________\n",
      " Layer (type)                Output Shape              Param #   \n",
      "=================================================================\n",
      " encoder input (InputLayer)  [(None, 256, 256, 3)]     0         \n",
      "                                                                 \n",
      " conv2d_12 (Conv2D)          (None, 127, 127, 32)      896       \n",
      "                                                                 \n",
      " conv2d_13 (Conv2D)          (None, 63, 63, 64)        18496     \n",
      "                                                                 \n",
      " latent_flatten (Flatten)    (None, 254016)            0         \n",
      "                                                                 \n",
      " dense_8 (Dense)             (None, 4)                 1016068   \n",
      "                                                                 \n",
      "=================================================================\n",
      "Total params: 1,035,460\n",
      "Trainable params: 1,035,460\n",
      "Non-trainable params: 0\n",
      "_________________________________________________________________\n"
     ]
    }
   ],
   "source": [
    "c1.summary()"
   ]
  },
  {
   "cell_type": "code",
   "execution_count": 24,
   "id": "0160cce5-2926-4944-8c8b-80d6ffbd0854",
   "metadata": {},
   "outputs": [],
   "source": [
    "c2 = mcc.Classifier_plus([500,100])"
   ]
  },
  {
   "cell_type": "code",
   "execution_count": 25,
   "id": "b406e2de-9cdc-4a3d-9ad3-fe48d0e6116e",
   "metadata": {},
   "outputs": [
    {
     "name": "stdout",
     "output_type": "stream",
     "text": [
      "Model: \"Classifier2\"\n",
      "_________________________________________________________________\n",
      " Layer (type)                Output Shape              Param #   \n",
      "=================================================================\n",
      " encoder input (InputLayer)  [(None, 256, 256, 3)]     0         \n",
      "                                                                 \n",
      " conv2d_14 (Conv2D)          (None, 127, 127, 32)      896       \n",
      "                                                                 \n",
      " conv2d_15 (Conv2D)          (None, 63, 63, 64)        18496     \n",
      "                                                                 \n",
      " latent_flatten (Flatten)    (None, 254016)            0         \n",
      "                                                                 \n",
      " dense_9 (Dense)             (None, 500)               127008500 \n",
      "                                                                 \n",
      " dense_10 (Dense)            (None, 100)               50100     \n",
      "                                                                 \n",
      " dense_11 (Dense)            (None, 4)                 404       \n",
      "                                                                 \n",
      "=================================================================\n",
      "Total params: 127,078,396\n",
      "Trainable params: 127,078,396\n",
      "Non-trainable params: 0\n",
      "_________________________________________________________________\n"
     ]
    }
   ],
   "source": [
    "c2.summary()"
   ]
  },
  {
   "cell_type": "code",
   "execution_count": null,
   "id": "5f79fb2a-f515-465f-a196-6a9dd611a0f8",
   "metadata": {},
   "outputs": [],
   "source": []
  }
 ],
 "metadata": {
  "kernelspec": {
   "display_name": "Python 3 (ipykernel)",
   "language": "python",
   "name": "python3"
  },
  "language_info": {
   "codemirror_mode": {
    "name": "ipython",
    "version": 3
   },
   "file_extension": ".py",
   "mimetype": "text/x-python",
   "name": "python",
   "nbconvert_exporter": "python",
   "pygments_lexer": "ipython3",
   "version": "3.9.12"
  }
 },
 "nbformat": 4,
 "nbformat_minor": 5
}
