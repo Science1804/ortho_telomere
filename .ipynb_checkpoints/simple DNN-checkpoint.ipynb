{
 "cells": [
  {
   "cell_type": "code",
   "execution_count": 1,
   "id": "2d437910-3cba-419a-a854-5dac68ad69cb",
   "metadata": {},
   "outputs": [],
   "source": [
    "import tensorflow as tf\n",
    "class DNN:\n",
    "    \n",
    "    def __init__(self,neurons,act='relu',cact='sigmoid',c=1,input_shape=(3000),kreg=None):\n",
    "    \n",
    "        self.neurons = neurons ;\n",
    "        self.act = act ;\n",
    "        self.input_shape = input_shape ;\n",
    "        self.cact = cact\n",
    "        self.c = c ;\n",
    "        \n",
    "        if kreg==None:\n",
    "            self.kreg = None;\n",
    "        else:\n",
    "            self.kreg = kreg\n",
    "\n",
    "        return\n",
    "\n",
    "\n",
    "    def NN(self,name='Classifier'):\n",
    "        inp_layer = tf.keras.layers.Input(shape=self.input_shape,name='Input')\n",
    "        x = inp_layer;\n",
    "\n",
    "        for neuron in self.neurons:\n",
    "            x = tf.keras.layers.Dense(neuron,activation=self.act,kernel_regularizer=self.kreg)(x)\n",
    "\n",
    "        x = tf.keras.layers.Dense(self.c,activation=self.cact)(x)\n",
    "        classifier = tf.keras.Model(inputs=inp_layer,outputs=x,name=name)\n",
    "\n",
    "        return classifier"
   ]
  },
  {
   "cell_type": "code",
   "execution_count": 2,
   "id": "22ea331b-7522-46e0-9ee4-fe1d95c4b40c",
   "metadata": {},
   "outputs": [],
   "source": [
    "dnn = DNN([20,30],input_shape=250)"
   ]
  },
  {
   "cell_type": "code",
   "execution_count": 3,
   "id": "407bc15c-335a-409f-a1af-ae657d0eab40",
   "metadata": {},
   "outputs": [
    {
     "name": "stderr",
     "output_type": "stream",
     "text": [
      "2022-08-23 10:18:15.470695: I tensorflow/stream_executor/cuda/cuda_gpu_executor.cc:975] successful NUMA node read from SysFS had negative value (-1), but there must be at least one NUMA node, so returning NUMA node zero\n",
      "2022-08-23 10:18:15.492736: W tensorflow/stream_executor/platform/default/dso_loader.cc:64] Could not load dynamic library 'libcudnn.so.8'; dlerror: libcudnn.so.8: cannot open shared object file: No such file or directory\n",
      "2022-08-23 10:18:15.492754: W tensorflow/core/common_runtime/gpu/gpu_device.cc:1850] Cannot dlopen some GPU libraries. Please make sure the missing libraries mentioned above are installed properly if you would like to use GPU. Follow the guide at https://www.tensorflow.org/install/gpu for how to download and setup the required libraries for your platform.\n",
      "Skipping registering GPU devices...\n",
      "2022-08-23 10:18:15.493433: I tensorflow/core/platform/cpu_feature_guard.cc:193] This TensorFlow binary is optimized with oneAPI Deep Neural Network Library (oneDNN) to use the following CPU instructions in performance-critical operations:  AVX2 FMA\n",
      "To enable them in other operations, rebuild TensorFlow with the appropriate compiler flags.\n"
     ]
    }
   ],
   "source": [
    "x = dnn.Classifier()"
   ]
  },
  {
   "cell_type": "code",
   "execution_count": 4,
   "id": "525ab013-4ca5-4e65-9ba9-ac434888f690",
   "metadata": {},
   "outputs": [
    {
     "name": "stdout",
     "output_type": "stream",
     "text": [
      "Model: \"Classifier\"\n",
      "_________________________________________________________________\n",
      " Layer (type)                Output Shape              Param #   \n",
      "=================================================================\n",
      " Input (InputLayer)          [(None, 250)]             0         \n",
      "                                                                 \n",
      " dense (Dense)               (None, 20)                5020      \n",
      "                                                                 \n",
      " dense_1 (Dense)             (None, 30)                630       \n",
      "                                                                 \n",
      " dense_2 (Dense)             (None, 1)                 31        \n",
      "                                                                 \n",
      "=================================================================\n",
      "Total params: 5,681\n",
      "Trainable params: 5,681\n",
      "Non-trainable params: 0\n",
      "_________________________________________________________________\n"
     ]
    }
   ],
   "source": [
    "x.summary()"
   ]
  },
  {
   "cell_type": "code",
   "execution_count": null,
   "id": "6793a655-3633-4fe2-bb73-cfc05ca58714",
   "metadata": {},
   "outputs": [],
   "source": []
  }
 ],
 "metadata": {
  "kernelspec": {
   "display_name": "Python 3 (ipykernel)",
   "language": "python",
   "name": "python3"
  },
  "language_info": {
   "codemirror_mode": {
    "name": "ipython",
    "version": 3
   },
   "file_extension": ".py",
   "mimetype": "text/x-python",
   "name": "python",
   "nbconvert_exporter": "python",
   "pygments_lexer": "ipython3",
   "version": "3.9.12"
  }
 },
 "nbformat": 4,
 "nbformat_minor": 5
}
